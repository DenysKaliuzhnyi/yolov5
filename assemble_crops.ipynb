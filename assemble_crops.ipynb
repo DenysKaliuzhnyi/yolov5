{
 "cells": [
  {
   "cell_type": "code",
   "execution_count": 1,
   "id": "19232212",
   "metadata": {},
   "outputs": [],
   "source": [
    "import re\n",
    "import json\n",
    "import glob\n",
    "import datetime\n",
    "from pathlib import Path"
   ]
  },
  {
   "cell_type": "code",
   "execution_count": 2,
   "id": "de466645",
   "metadata": {},
   "outputs": [
    {
     "data": {
      "text/plain": [
       "'2022-08-20T13:31:56'"
      ]
     },
     "execution_count": 2,
     "metadata": {},
     "output_type": "execute_result"
    }
   ],
   "source": [
    "now = datetime.datetime.now()\n",
    "time = now.strftime(\"%Y-%m-%dT%H:%M:%S\")\n",
    "time"
   ]
  },
  {
   "cell_type": "code",
   "execution_count": 3,
   "id": "2c38da80",
   "metadata": {},
   "outputs": [],
   "source": [
    "SIZE = (1024, 1024)\n",
    "LABELS_DIR = r'runs/detect/instances_train2017_yolov5/exp_test_mine_lr0=0_005_lrf=0_05_momentum=0_997_Adam_2022-07-24_23:03:25/wsi/debug_conf001_iou45/labels'"
   ]
  },
  {
   "cell_type": "code",
   "execution_count": 12,
   "id": "e86156ae",
   "metadata": {},
   "outputs": [],
   "source": [
    "coco_json = {\n",
    "    \"info\": {\n",
    "        \"year\": \"2022\",\n",
    "        \"version\": \"1.0\",\n",
    "        \"description\": \"Cell object detection predictions on WSI testis data\",\n",
    "        \"contributor\": \"BIIT research group at University of Tartu\",\n",
    "#         \"url\": \"\",\n",
    "        \"date_created\": time\n",
    "    },\n",
    "    \"licenses\": [],\n",
    "    \"categories\": [\n",
    "        {\n",
    "            \"id\": 1,\n",
    "            \"name\": \"Spermatogonia\",\n",
    "            \"supercategory\": \"cell\"\n",
    "        },\n",
    "        {\n",
    "            \"id\": 2,\n",
    "            \"name\": \"Sertoli\",\n",
    "            \"supercategory\": \"cell\"\n",
    "        },\n",
    "        {\n",
    "            \"id\": 3,\n",
    "            \"name\": \"Primary spermatocyte\",\n",
    "            \"supercategory\": \"cell\"\n",
    "        },\n",
    "        {\n",
    "            \"id\": 4,\n",
    "            \"name\": \"Spermatid\",\n",
    "            \"supercategory\": \"cell\"\n",
    "        },\n",
    "        {\n",
    "            \"id\": 5,\n",
    "            \"name\": \"Spermatozoa\",\n",
    "            \"supercategory\": \"cell\"\n",
    "        },\n",
    "#         {\n",
    "#             \"id\": 6,\n",
    "#             \"name\": \"Garbage cell\",\n",
    "#             \"supercategory\": \"cell\"\n",
    "#         }\n",
    "    ],\n",
    "    \"images\": [],\n",
    "    \"annotations\": []\n",
    "}"
   ]
  },
  {
   "cell_type": "code",
   "execution_count": 13,
   "id": "f5fd62d1",
   "metadata": {},
   "outputs": [
    {
     "data": {
      "text/plain": [
       "PosixPath('runs/detect/instances_train2017_yolov5/exp_test_mine_lr0=0_005_lrf=0_05_momentum=0_997_Adam_2022-07-24_23:03:25/wsi/debug_conf001_iou45/labels')"
      ]
     },
     "execution_count": 13,
     "metadata": {},
     "output_type": "execute_result"
    }
   ],
   "source": [
    "Path(LABELS_DIR)"
   ]
  },
  {
   "cell_type": "code",
   "execution_count": 16,
   "id": "f470ca96",
   "metadata": {},
   "outputs": [
    {
     "name": "stdout",
     "output_type": "stream",
     "text": [
      "runs/detect/instances_train2017_yolov5/exp_test_mine_lr0=0_005_lrf=0_05_momentum=0_997_Adam_2022-07-24_23:03:25/wsi/debug_conf001_iou45/labels/19H11010_0111_x=109568_y=197632.txt\n"
     ]
    },
    {
     "ename": "IndexError",
     "evalue": "list index out of range",
     "output_type": "error",
     "traceback": [
      "\u001b[0;31m---------------------------------------------------------------------------\u001b[0m",
      "\u001b[0;31mIndexError\u001b[0m                                Traceback (most recent call last)",
      "\u001b[0;32m/tmp/ipykernel_206772/811365648.py\u001b[0m in \u001b[0;36m<module>\u001b[0;34m\u001b[0m\n\u001b[1;32m      7\u001b[0m     \u001b[0mstem\u001b[0m \u001b[0;34m=\u001b[0m \u001b[0mp\u001b[0m\u001b[0;34m.\u001b[0m\u001b[0mstem\u001b[0m\u001b[0;34m\u001b[0m\u001b[0;34m\u001b[0m\u001b[0m\n\u001b[1;32m      8\u001b[0m \u001b[0;34m\u001b[0m\u001b[0m\n\u001b[0;32m----> 9\u001b[0;31m     \u001b[0mwsix\u001b[0m \u001b[0;34m=\u001b[0m \u001b[0mint\u001b[0m\u001b[0;34m(\u001b[0m\u001b[0mre\u001b[0m\u001b[0;34m.\u001b[0m\u001b[0mfindall\u001b[0m\u001b[0;34m(\u001b[0m\u001b[0;34mr'x=(\\d+)'\u001b[0m\u001b[0;34m,\u001b[0m \u001b[0mstem\u001b[0m\u001b[0;34m)\u001b[0m\u001b[0;34m[\u001b[0m\u001b[0;36m1\u001b[0m\u001b[0;34m]\u001b[0m\u001b[0;34m)\u001b[0m\u001b[0;34m\u001b[0m\u001b[0;34m\u001b[0m\u001b[0m\n\u001b[0m\u001b[1;32m     10\u001b[0m     \u001b[0mwsiy\u001b[0m \u001b[0;34m=\u001b[0m \u001b[0mint\u001b[0m\u001b[0;34m(\u001b[0m\u001b[0mre\u001b[0m\u001b[0;34m.\u001b[0m\u001b[0mfindall\u001b[0m\u001b[0;34m(\u001b[0m\u001b[0;34mr'y=(\\d+)'\u001b[0m\u001b[0;34m,\u001b[0m \u001b[0mstem\u001b[0m\u001b[0;34m)\u001b[0m\u001b[0;34m[\u001b[0m\u001b[0;36m0\u001b[0m\u001b[0;34m]\u001b[0m\u001b[0;34m)\u001b[0m\u001b[0;34m\u001b[0m\u001b[0;34m\u001b[0m\u001b[0m\n\u001b[1;32m     11\u001b[0m     \u001b[0mwsiname\u001b[0m \u001b[0;34m=\u001b[0m \u001b[0mre\u001b[0m\u001b[0;34m.\u001b[0m\u001b[0mfindall\u001b[0m\u001b[0;34m(\u001b[0m\u001b[0;34mr'(.*)_x='\u001b[0m\u001b[0;34m,\u001b[0m \u001b[0mstem\u001b[0m\u001b[0;34m)\u001b[0m\u001b[0;34m[\u001b[0m\u001b[0;36m0\u001b[0m\u001b[0;34m]\u001b[0m \u001b[0;34m+\u001b[0m \u001b[0;34m'.mrxs'\u001b[0m\u001b[0;34m\u001b[0m\u001b[0;34m\u001b[0m\u001b[0m\n",
      "\u001b[0;31mIndexError\u001b[0m: list index out of range"
     ]
    }
   ],
   "source": [
    "wsi_cache = {} \n",
    "img_cnt = 0\n",
    "ann_cnt = 0\n",
    "\n",
    "for p in Path(LABELS_DIR).glob('*.txt'):\n",
    "    print(p)\n",
    "    stem = p.stem\n",
    "\n",
    "    wsix = int(re.findall(r'x=(\\d+)', stem)[1])\n",
    "    wsiy = int(re.findall(r'y=(\\d+)', stem)[0])\n",
    "    wsiname = re.findall(r'(.*)_x=', stem)[0] + '.mrxs'\n",
    "    \n",
    "    img_id = wsi_cache.get(wsiname)\n",
    "    if img_id is None:\n",
    "        img_id = img_cnt\n",
    "        wsi_cache[wsiname] = img_id\n",
    "        \n",
    "        wsi = {\n",
    "#             \"coco_url\": \"\"\n",
    "            \"id\": img_id,\n",
    "#             \"license\": 1,\n",
    "            \"file_name\": wsiname,\n",
    "            \"width\": SIZE[0],\n",
    "            \"height\": SIZE[1],\n",
    "#             \"date_captured\": \"\",\n",
    "#             \"flickr_url\": \"\"\n",
    "        } \n",
    "        img_cnt += 1\n",
    "    \n",
    "        coco_json['images'].append(wsi)\n",
    "    \n",
    "    content = p.read_text().strip()\n",
    "    for line in content.split('\\n'):\n",
    "        cid, cx, cy, cw, ch, cc_ = list(map(float, line.split()))\n",
    "        \n",
    "        bbox = SIZE[0] * (cx - cw / 2) + wsix, SIZE[1] * (cy - ch / 2) + wsiy, SIZE[0] * cw, SIZE[1] * ch\n",
    "        bbox = list(map(lambda x: int(round(x)), bbox))\n",
    "        area = bbox[2] * bbox[3]\n",
    "        ann_id = ann_cnt\n",
    "        \n",
    "        annotation = {\n",
    "            \"id\": ann_id,\n",
    "            \"image_id\": img_id,\n",
    "            \"category_id\": cid,\n",
    "            \"bbox\": bbox,\n",
    "            \"area\": area,\n",
    "            \"iscrowd\": 0,\n",
    "#             \"segmentation\": []\n",
    "        }\n",
    "        ann_cnt += 1\n",
    "        \n",
    "        coco_json[\"annotations\"].append(annotation)"
   ]
  },
  {
   "cell_type": "code",
   "execution_count": 7,
   "id": "26e22778",
   "metadata": {},
   "outputs": [],
   "source": [
    "# coco_json"
   ]
  },
  {
   "cell_type": "code",
   "execution_count": 13,
   "id": "787e380a",
   "metadata": {},
   "outputs": [],
   "source": [
    "with open('19H11010_0111.json', 'w') as f:\n",
    "    json.dump(coco_json, f)"
   ]
  },
  {
   "cell_type": "code",
   "execution_count": 23,
   "id": "63daf432",
   "metadata": {},
   "outputs": [
    {
     "data": {
      "text/plain": [
       "PosixPath('runs/detect/instances_train2017_yolov5/exp_test_mine_lr0=0_005_lrf=0_05_momentum=0_997_Adam_2022-07-24_23:03:25/wsi/debug_conf001_iou45/wsi')"
      ]
     },
     "execution_count": 23,
     "metadata": {},
     "output_type": "execute_result"
    }
   ],
   "source": [
    "p.parents[1] / 'wsi'"
   ]
  },
  {
   "cell_type": "code",
   "execution_count": null,
   "id": "a6b55e8b",
   "metadata": {},
   "outputs": [],
   "source": []
  }
 ],
 "metadata": {
  "kernelspec": {
   "display_name": "Python 3 (ipykernel)",
   "language": "python",
   "name": "python3"
  },
  "language_info": {
   "codemirror_mode": {
    "name": "ipython",
    "version": 3
   },
   "file_extension": ".py",
   "mimetype": "text/x-python",
   "name": "python",
   "nbconvert_exporter": "python",
   "pygments_lexer": "ipython3",
   "version": "3.10.1"
  }
 },
 "nbformat": 4,
 "nbformat_minor": 5
}
